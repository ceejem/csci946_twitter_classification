{
 "cells": [
  {
   "cell_type": "code",
   "execution_count": 1,
   "metadata": {},
   "outputs": [],
   "source": [
    "import os\n",
    "import numpy as np\n",
    "import pandas as pd\n",
    "import matplotlib.pyplot as plt\n",
    "\n",
    "from collections import OrderedDict"
   ]
  },
  {
   "cell_type": "code",
   "execution_count": 11,
   "metadata": {},
   "outputs": [],
   "source": [
    "from datetime import datetime\n",
    "from datetime import date"
   ]
  },
  {
   "cell_type": "code",
   "execution_count": 3,
   "metadata": {},
   "outputs": [],
   "source": [
    "raw_df = pd.read_csv('./data/twitter_normal_user_data.csv', encoding = \"ISO-8859-1\")\n",
    "# raw_df"
   ]
  },
  {
   "cell_type": "markdown",
   "metadata": {},
   "source": [
    "# Scheme 1:"
   ]
  },
  {
   "cell_type": "code",
   "execution_count": 43,
   "metadata": {},
   "outputs": [],
   "source": [
    "df1 = raw_df.copy()"
   ]
  },
  {
   "cell_type": "code",
   "execution_count": 84,
   "metadata": {},
   "outputs": [
    {
     "name": "stdout",
     "output_type": "stream",
     "text": [
      "<class 'pandas.core.frame.DataFrame'>\n",
      "RangeIndex: 20000 entries, 0 to 19999\n",
      "Data columns (total 23 columns):\n",
      " #   Column                 Non-Null Count  Dtype  \n",
      "---  ------                 --------------  -----  \n",
      " 0   gender:confidence      20000 non-null  float64\n",
      " 1   profile_yn             20000 non-null  int64  \n",
      " 2   profile_yn:confidence  20000 non-null  float64\n",
      " 3   description            20000 non-null  object \n",
      " 4   fav_number             20000 non-null  int64  \n",
      " 5   link_color             20000 non-null  object \n",
      " 6   name                   20000 non-null  object \n",
      " 7   retweet_count          20000 non-null  int64  \n",
      " 8   sidebar_color          20000 non-null  object \n",
      " 9   text                   20000 non-null  object \n",
      " 10  tweet_count            20000 non-null  int64  \n",
      " 11  account_uptime         20000 non-null  int64  \n",
      " 12  tweets_per_day         20000 non-null  float64\n",
      " 13  retweets_per_day       20000 non-null  float64\n",
      " 14  has_description        20000 non-null  int64  \n",
      " 15  has_coord              20000 non-null  int64  \n",
      " 16  has_location           20000 non-null  int64  \n",
      " 17  has_timezone           20000 non-null  int64  \n",
      " 18  favnum_per_day         20000 non-null  float64\n",
      " 19  gender_brand           20000 non-null  int64  \n",
      " 20  gender_unknown         20000 non-null  int64  \n",
      " 21  gender_male            20000 non-null  int64  \n",
      " 22  gender_female          20000 non-null  int64  \n",
      "dtypes: float64(5), int64(13), object(5)\n",
      "memory usage: 3.5+ MB\n"
     ]
    }
   ],
   "source": [
    "df1.info()"
   ]
  },
  {
   "cell_type": "markdown",
   "metadata": {},
   "source": [
    "- If `gender` is not recorded, fill the value with unknown\n",
    "- In such case (`gender` not recorded), `gender:confidence` is 0\n",
    "- Mark NULL values"
   ]
  },
  {
   "cell_type": "code",
   "execution_count": 45,
   "metadata": {},
   "outputs": [],
   "source": [
    "df1['gender:confidence'].fillna(0, inplace=True)"
   ]
  },
  {
   "cell_type": "code",
   "execution_count": 46,
   "metadata": {},
   "outputs": [],
   "source": [
    "df1['gender'] = df1['gender'].apply(lambda x: 'unknown' if pd.isnull(x) else x)\n",
    "df1['description'] = df1['description'].apply(lambda x: '' if pd.isnull(x) else x)\n",
    "df1['tweet_coord'] = df1['tweet_coord'].apply(lambda x: '' if pd.isnull(x) else x)\n",
    "df1['tweet_location'] = df1['tweet_location'].apply(lambda x: '' if pd.isnull(x) else x)\n",
    "df1['user_timezone'] = df1['user_timezone'].apply(lambda x: '' if pd.isnull(x) else x)"
   ]
  },
  {
   "cell_type": "code",
   "execution_count": 49,
   "metadata": {},
   "outputs": [],
   "source": [
    "def split_date(ddata):\n",
    "    dlist = ddata.split()\n",
    "    date_data = dlist[0]\n",
    "    time_data = dlist[1]\n",
    "\n",
    "    date_data_list = list(date_data.split('/'))\n",
    "    date_data_list[2] = str(int(date_data_list[2]) + 2000)\n",
    "\n",
    "    date_data_list.extend(list(time_data.split(':')))\n",
    "    date_data_list.append(\"00\")\n",
    "    \n",
    "    return ' '.join(date_data_list)\n"
   ]
  },
  {
   "cell_type": "code",
   "execution_count": 50,
   "metadata": {},
   "outputs": [],
   "source": [
    "df1['_last_judgment_at'] = df1['_last_judgment_at'].apply(split_date)\n",
    "df1['created'] = df1['created'].apply(split_date)\n",
    "df1['tweet_created'] = df1['tweet_created'].apply(split_date)"
   ]
  },
  {
   "cell_type": "code",
   "execution_count": 85,
   "metadata": {},
   "outputs": [
    {
     "data": {
      "text/html": [
       "<div>\n",
       "<style scoped>\n",
       "    .dataframe tbody tr th:only-of-type {\n",
       "        vertical-align: middle;\n",
       "    }\n",
       "\n",
       "    .dataframe tbody tr th {\n",
       "        vertical-align: top;\n",
       "    }\n",
       "\n",
       "    .dataframe thead th {\n",
       "        text-align: right;\n",
       "    }\n",
       "</style>\n",
       "<table border=\"1\" class=\"dataframe\">\n",
       "  <thead>\n",
       "    <tr style=\"text-align: right;\">\n",
       "      <th></th>\n",
       "      <th>gender:confidence</th>\n",
       "      <th>profile_yn</th>\n",
       "      <th>profile_yn:confidence</th>\n",
       "      <th>description</th>\n",
       "      <th>fav_number</th>\n",
       "      <th>link_color</th>\n",
       "      <th>name</th>\n",
       "      <th>retweet_count</th>\n",
       "      <th>sidebar_color</th>\n",
       "      <th>text</th>\n",
       "      <th>...</th>\n",
       "      <th>retweets_per_day</th>\n",
       "      <th>has_description</th>\n",
       "      <th>has_coord</th>\n",
       "      <th>has_location</th>\n",
       "      <th>has_timezone</th>\n",
       "      <th>favnum_per_day</th>\n",
       "      <th>gender_brand</th>\n",
       "      <th>gender_unknown</th>\n",
       "      <th>gender_male</th>\n",
       "      <th>gender_female</th>\n",
       "    </tr>\n",
       "  </thead>\n",
       "  <tbody>\n",
       "    <tr>\n",
       "      <th>0</th>\n",
       "      <td>1.0000</td>\n",
       "      <td>1</td>\n",
       "      <td>1.0</td>\n",
       "      <td>i sing my own rhythm.</td>\n",
       "      <td>0</td>\n",
       "      <td>08C2C2</td>\n",
       "      <td>sheezy0</td>\n",
       "      <td>0</td>\n",
       "      <td>FFFFFF</td>\n",
       "      <td>Robbie E Responds To Critics After Win Against...</td>\n",
       "      <td>...</td>\n",
       "      <td>0.000000</td>\n",
       "      <td>1</td>\n",
       "      <td>0</td>\n",
       "      <td>1</td>\n",
       "      <td>1</td>\n",
       "      <td>0.000000</td>\n",
       "      <td>0</td>\n",
       "      <td>0</td>\n",
       "      <td>1</td>\n",
       "      <td>0</td>\n",
       "    </tr>\n",
       "    <tr>\n",
       "      <th>1</th>\n",
       "      <td>1.0000</td>\n",
       "      <td>1</td>\n",
       "      <td>1.0</td>\n",
       "      <td>I'm the author of novels filled with family dr...</td>\n",
       "      <td>68</td>\n",
       "      <td>0084B4</td>\n",
       "      <td>DavdBurnett</td>\n",
       "      <td>0</td>\n",
       "      <td>C0DEED</td>\n",
       "      <td>ÂÃÃIt felt like they were my friends and I ...</td>\n",
       "      <td>...</td>\n",
       "      <td>0.000000</td>\n",
       "      <td>1</td>\n",
       "      <td>0</td>\n",
       "      <td>0</td>\n",
       "      <td>1</td>\n",
       "      <td>0.060660</td>\n",
       "      <td>0</td>\n",
       "      <td>0</td>\n",
       "      <td>1</td>\n",
       "      <td>0</td>\n",
       "    </tr>\n",
       "    <tr>\n",
       "      <th>2</th>\n",
       "      <td>0.6625</td>\n",
       "      <td>1</td>\n",
       "      <td>1.0</td>\n",
       "      <td>louis whining and squealing and all</td>\n",
       "      <td>7696</td>\n",
       "      <td>ABB8C2</td>\n",
       "      <td>lwtprettylaugh</td>\n",
       "      <td>1</td>\n",
       "      <td>C0DEED</td>\n",
       "      <td>i absolutely adore when louis starts the songs...</td>\n",
       "      <td>...</td>\n",
       "      <td>0.003003</td>\n",
       "      <td>1</td>\n",
       "      <td>0</td>\n",
       "      <td>1</td>\n",
       "      <td>1</td>\n",
       "      <td>23.111111</td>\n",
       "      <td>0</td>\n",
       "      <td>0</td>\n",
       "      <td>1</td>\n",
       "      <td>0</td>\n",
       "    </tr>\n",
       "    <tr>\n",
       "      <th>3</th>\n",
       "      <td>1.0000</td>\n",
       "      <td>1</td>\n",
       "      <td>1.0</td>\n",
       "      <td>Mobile guy.  49ers, Shazam, Google, Kleiner Pe...</td>\n",
       "      <td>202</td>\n",
       "      <td>0084B4</td>\n",
       "      <td>douggarland</td>\n",
       "      <td>0</td>\n",
       "      <td>C0DEED</td>\n",
       "      <td>Hi @JordanSpieth - Looking at the url - do you...</td>\n",
       "      <td>...</td>\n",
       "      <td>0.000000</td>\n",
       "      <td>1</td>\n",
       "      <td>0</td>\n",
       "      <td>1</td>\n",
       "      <td>1</td>\n",
       "      <td>0.086733</td>\n",
       "      <td>0</td>\n",
       "      <td>0</td>\n",
       "      <td>1</td>\n",
       "      <td>0</td>\n",
       "    </tr>\n",
       "    <tr>\n",
       "      <th>4</th>\n",
       "      <td>1.0000</td>\n",
       "      <td>1</td>\n",
       "      <td>1.0</td>\n",
       "      <td>Ricky Wilson The Best FRONTMAN/Kaiser Chiefs T...</td>\n",
       "      <td>37318</td>\n",
       "      <td>3B94D9</td>\n",
       "      <td>WilfordGemma</td>\n",
       "      <td>0</td>\n",
       "      <td>0</td>\n",
       "      <td>Watching Neighbours on Sky+ catching up with t...</td>\n",
       "      <td>...</td>\n",
       "      <td>0.000000</td>\n",
       "      <td>1</td>\n",
       "      <td>0</td>\n",
       "      <td>0</td>\n",
       "      <td>0</td>\n",
       "      <td>66.639286</td>\n",
       "      <td>0</td>\n",
       "      <td>0</td>\n",
       "      <td>0</td>\n",
       "      <td>1</td>\n",
       "    </tr>\n",
       "  </tbody>\n",
       "</table>\n",
       "<p>5 rows × 23 columns</p>\n",
       "</div>"
      ],
      "text/plain": [
       "   gender:confidence  profile_yn  profile_yn:confidence  \\\n",
       "0             1.0000           1                    1.0   \n",
       "1             1.0000           1                    1.0   \n",
       "2             0.6625           1                    1.0   \n",
       "3             1.0000           1                    1.0   \n",
       "4             1.0000           1                    1.0   \n",
       "\n",
       "                                         description  fav_number link_color  \\\n",
       "0                              i sing my own rhythm.           0     08C2C2   \n",
       "1  I'm the author of novels filled with family dr...          68     0084B4   \n",
       "2                louis whining and squealing and all        7696     ABB8C2   \n",
       "3  Mobile guy.  49ers, Shazam, Google, Kleiner Pe...         202     0084B4   \n",
       "4  Ricky Wilson The Best FRONTMAN/Kaiser Chiefs T...       37318     3B94D9   \n",
       "\n",
       "             name  retweet_count sidebar_color  \\\n",
       "0         sheezy0              0        FFFFFF   \n",
       "1     DavdBurnett              0        C0DEED   \n",
       "2  lwtprettylaugh              1        C0DEED   \n",
       "3     douggarland              0        C0DEED   \n",
       "4    WilfordGemma              0             0   \n",
       "\n",
       "                                                text  ...  retweets_per_day  \\\n",
       "0  Robbie E Responds To Critics After Win Against...  ...          0.000000   \n",
       "1  ÂÃÃIt felt like they were my friends and I ...  ...          0.000000   \n",
       "2  i absolutely adore when louis starts the songs...  ...          0.003003   \n",
       "3  Hi @JordanSpieth - Looking at the url - do you...  ...          0.000000   \n",
       "4  Watching Neighbours on Sky+ catching up with t...  ...          0.000000   \n",
       "\n",
       "   has_description  has_coord  has_location  has_timezone  favnum_per_day  \\\n",
       "0                1          0             1             1        0.000000   \n",
       "1                1          0             0             1        0.060660   \n",
       "2                1          0             1             1       23.111111   \n",
       "3                1          0             1             1        0.086733   \n",
       "4                1          0             0             0       66.639286   \n",
       "\n",
       "   gender_brand  gender_unknown  gender_male  gender_female  \n",
       "0             0               0            1              0  \n",
       "1             0               0            1              0  \n",
       "2             0               0            1              0  \n",
       "3             0               0            1              0  \n",
       "4             0               0            0              1  \n",
       "\n",
       "[5 rows x 23 columns]"
      ]
     },
     "execution_count": 85,
     "metadata": {},
     "output_type": "execute_result"
    }
   ],
   "source": [
    "df1.head()"
   ]
  },
  {
   "cell_type": "markdown",
   "metadata": {},
   "source": [
    "- Do not consider tweet created time (seemed irrelevant). Drop the `tweet_created` column.\n",
    "- Do not consider time (hour/minute/second)\n",
    "- Consider account uptime in days (last judgement time - created time)\n"
   ]
  },
  {
   "cell_type": "code",
   "execution_count": 51,
   "metadata": {},
   "outputs": [],
   "source": [
    "def calculate_uptime(judgement_time, created_time):\n",
    "    jlist = list(map(int,judgement_time.split()))\n",
    "    clist = list(map(int,created_time.split()))\n",
    "    delta = date(jlist[2], jlist[0], jlist[1]) - date(clist[2], clist[0], clist[1])\n",
    "    # If account created, counted as 1 day\n",
    "    return delta.days + 1"
   ]
  },
  {
   "cell_type": "code",
   "execution_count": 52,
   "metadata": {},
   "outputs": [],
   "source": [
    "df1['account_uptime'] = df1.apply(lambda x: calculate_uptime(x['_last_judgment_at'], x['created']), axis=1)"
   ]
  },
  {
   "cell_type": "code",
   "execution_count": 53,
   "metadata": {},
   "outputs": [
    {
     "data": {
      "text/plain": [
       "count    20000.000000\n",
       "mean      1142.731050\n",
       "std        793.218684\n",
       "min          1.000000\n",
       "25%        443.000000\n",
       "50%       1065.000000\n",
       "75%       1757.000000\n",
       "max       3371.000000\n",
       "Name: account_uptime, dtype: float64"
      ]
     },
     "execution_count": 53,
     "metadata": {},
     "output_type": "execute_result"
    }
   ],
   "source": [
    "df1['account_uptime'].describe()"
   ]
  },
  {
   "cell_type": "code",
   "execution_count": 54,
   "metadata": {},
   "outputs": [],
   "source": [
    "df1 = df1.drop(['_last_judgment_at', 'created', 'tweet_created'], axis=1)"
   ]
  },
  {
   "cell_type": "code",
   "execution_count": 74,
   "metadata": {},
   "outputs": [
    {
     "data": {
      "text/html": [
       "<div>\n",
       "<style scoped>\n",
       "    .dataframe tbody tr th:only-of-type {\n",
       "        vertical-align: middle;\n",
       "    }\n",
       "\n",
       "    .dataframe tbody tr th {\n",
       "        vertical-align: top;\n",
       "    }\n",
       "\n",
       "    .dataframe thead th {\n",
       "        text-align: right;\n",
       "    }\n",
       "</style>\n",
       "<table border=\"1\" class=\"dataframe\">\n",
       "  <thead>\n",
       "    <tr style=\"text-align: right;\">\n",
       "      <th></th>\n",
       "      <th>gender:confidence</th>\n",
       "      <th>profile_yn:confidence</th>\n",
       "      <th>fav_number</th>\n",
       "      <th>retweet_count</th>\n",
       "      <th>tweet_count</th>\n",
       "      <th>account_uptime</th>\n",
       "      <th>tweets_per_day</th>\n",
       "      <th>retweets_per_day</th>\n",
       "      <th>has_description</th>\n",
       "      <th>has_coord</th>\n",
       "      <th>has_location</th>\n",
       "      <th>has_timezone</th>\n",
       "      <th>favnum_per_day</th>\n",
       "    </tr>\n",
       "  </thead>\n",
       "  <tbody>\n",
       "    <tr>\n",
       "      <th>count</th>\n",
       "      <td>20000.000000</td>\n",
       "      <td>20000.000000</td>\n",
       "      <td>20000.00000</td>\n",
       "      <td>20000.000000</td>\n",
       "      <td>2.000000e+04</td>\n",
       "      <td>20000.000000</td>\n",
       "      <td>20000.000000</td>\n",
       "      <td>20000.000000</td>\n",
       "      <td>20000.000000</td>\n",
       "      <td>20000.00000</td>\n",
       "      <td>20000.000000</td>\n",
       "      <td>20000.000000</td>\n",
       "      <td>20000.000000</td>\n",
       "    </tr>\n",
       "    <tr>\n",
       "      <th>mean</th>\n",
       "      <td>0.881524</td>\n",
       "      <td>0.993208</td>\n",
       "      <td>4379.82665</td>\n",
       "      <td>0.079500</td>\n",
       "      <td>3.898118e+04</td>\n",
       "      <td>1142.731050</td>\n",
       "      <td>70.472606</td>\n",
       "      <td>0.000183</td>\n",
       "      <td>0.813100</td>\n",
       "      <td>0.00795</td>\n",
       "      <td>0.626650</td>\n",
       "      <td>0.611300</td>\n",
       "      <td>5.998250</td>\n",
       "    </tr>\n",
       "    <tr>\n",
       "      <th>std</th>\n",
       "      <td>0.194015</td>\n",
       "      <td>0.047225</td>\n",
       "      <td>12516.24516</td>\n",
       "      <td>2.653042</td>\n",
       "      <td>1.169720e+05</td>\n",
       "      <td>793.218684</td>\n",
       "      <td>215.420807</td>\n",
       "      <td>0.005435</td>\n",
       "      <td>0.389841</td>\n",
       "      <td>0.08881</td>\n",
       "      <td>0.483706</td>\n",
       "      <td>0.487467</td>\n",
       "      <td>20.811268</td>\n",
       "    </tr>\n",
       "    <tr>\n",
       "      <th>min</th>\n",
       "      <td>0.000000</td>\n",
       "      <td>0.627200</td>\n",
       "      <td>0.00000</td>\n",
       "      <td>0.000000</td>\n",
       "      <td>1.000000e+00</td>\n",
       "      <td>1.000000</td>\n",
       "      <td>0.000552</td>\n",
       "      <td>0.000000</td>\n",
       "      <td>0.000000</td>\n",
       "      <td>0.00000</td>\n",
       "      <td>0.000000</td>\n",
       "      <td>0.000000</td>\n",
       "      <td>0.000000</td>\n",
       "    </tr>\n",
       "    <tr>\n",
       "      <th>25%</th>\n",
       "      <td>0.677575</td>\n",
       "      <td>1.000000</td>\n",
       "      <td>11.00000</td>\n",
       "      <td>0.000000</td>\n",
       "      <td>2.396000e+03</td>\n",
       "      <td>443.000000</td>\n",
       "      <td>3.062609</td>\n",
       "      <td>0.000000</td>\n",
       "      <td>1.000000</td>\n",
       "      <td>0.00000</td>\n",
       "      <td>0.000000</td>\n",
       "      <td>0.000000</td>\n",
       "      <td>0.016292</td>\n",
       "    </tr>\n",
       "    <tr>\n",
       "      <th>50%</th>\n",
       "      <td>1.000000</td>\n",
       "      <td>1.000000</td>\n",
       "      <td>456.50000</td>\n",
       "      <td>0.000000</td>\n",
       "      <td>1.146100e+04</td>\n",
       "      <td>1065.000000</td>\n",
       "      <td>12.359685</td>\n",
       "      <td>0.000000</td>\n",
       "      <td>1.000000</td>\n",
       "      <td>0.00000</td>\n",
       "      <td>1.000000</td>\n",
       "      <td>1.000000</td>\n",
       "      <td>0.495961</td>\n",
       "    </tr>\n",
       "    <tr>\n",
       "      <th>75%</th>\n",
       "      <td>1.000000</td>\n",
       "      <td>1.000000</td>\n",
       "      <td>3314.50000</td>\n",
       "      <td>0.000000</td>\n",
       "      <td>4.005775e+04</td>\n",
       "      <td>1757.000000</td>\n",
       "      <td>48.990045</td>\n",
       "      <td>0.000000</td>\n",
       "      <td>1.000000</td>\n",
       "      <td>0.00000</td>\n",
       "      <td>1.000000</td>\n",
       "      <td>1.000000</td>\n",
       "      <td>3.591950</td>\n",
       "    </tr>\n",
       "    <tr>\n",
       "      <th>max</th>\n",
       "      <td>1.000000</td>\n",
       "      <td>1.000000</td>\n",
       "      <td>341621.00000</td>\n",
       "      <td>330.000000</td>\n",
       "      <td>2.680199e+06</td>\n",
       "      <td>3371.000000</td>\n",
       "      <td>3106.907514</td>\n",
       "      <td>0.333333</td>\n",
       "      <td>1.000000</td>\n",
       "      <td>1.00000</td>\n",
       "      <td>1.000000</td>\n",
       "      <td>1.000000</td>\n",
       "      <td>622.264706</td>\n",
       "    </tr>\n",
       "  </tbody>\n",
       "</table>\n",
       "</div>"
      ],
      "text/plain": [
       "       gender:confidence  profile_yn:confidence    fav_number  retweet_count  \\\n",
       "count       20000.000000           20000.000000   20000.00000   20000.000000   \n",
       "mean            0.881524               0.993208    4379.82665       0.079500   \n",
       "std             0.194015               0.047225   12516.24516       2.653042   \n",
       "min             0.000000               0.627200       0.00000       0.000000   \n",
       "25%             0.677575               1.000000      11.00000       0.000000   \n",
       "50%             1.000000               1.000000     456.50000       0.000000   \n",
       "75%             1.000000               1.000000    3314.50000       0.000000   \n",
       "max             1.000000               1.000000  341621.00000     330.000000   \n",
       "\n",
       "        tweet_count  account_uptime  tweets_per_day  retweets_per_day  \\\n",
       "count  2.000000e+04    20000.000000    20000.000000      20000.000000   \n",
       "mean   3.898118e+04     1142.731050       70.472606          0.000183   \n",
       "std    1.169720e+05      793.218684      215.420807          0.005435   \n",
       "min    1.000000e+00        1.000000        0.000552          0.000000   \n",
       "25%    2.396000e+03      443.000000        3.062609          0.000000   \n",
       "50%    1.146100e+04     1065.000000       12.359685          0.000000   \n",
       "75%    4.005775e+04     1757.000000       48.990045          0.000000   \n",
       "max    2.680199e+06     3371.000000     3106.907514          0.333333   \n",
       "\n",
       "       has_description    has_coord  has_location  has_timezone  \\\n",
       "count     20000.000000  20000.00000  20000.000000  20000.000000   \n",
       "mean          0.813100      0.00795      0.626650      0.611300   \n",
       "std           0.389841      0.08881      0.483706      0.487467   \n",
       "min           0.000000      0.00000      0.000000      0.000000   \n",
       "25%           1.000000      0.00000      0.000000      0.000000   \n",
       "50%           1.000000      0.00000      1.000000      1.000000   \n",
       "75%           1.000000      0.00000      1.000000      1.000000   \n",
       "max           1.000000      1.00000      1.000000      1.000000   \n",
       "\n",
       "       favnum_per_day  \n",
       "count    20000.000000  \n",
       "mean         5.998250  \n",
       "std         20.811268  \n",
       "min          0.000000  \n",
       "25%          0.016292  \n",
       "50%          0.495961  \n",
       "75%          3.591950  \n",
       "max        622.264706  "
      ]
     },
     "execution_count": 74,
     "metadata": {},
     "output_type": "execute_result"
    }
   ],
   "source": [
    "df1.describe()"
   ]
  },
  {
   "cell_type": "code",
   "execution_count": 56,
   "metadata": {},
   "outputs": [],
   "source": [
    "def calculate_activity_per_uptime(activity, uptime):\n",
    "    return activity / uptime"
   ]
  },
  {
   "cell_type": "code",
   "execution_count": 71,
   "metadata": {},
   "outputs": [],
   "source": [
    "df1['tweets_per_day'] = df1.apply(lambda x: calculate_activity_per_uptime(x['tweet_count'], x['account_uptime']), axis=1)\n",
    "df1['retweets_per_day'] = df1.apply(lambda x: calculate_activity_per_uptime(x['retweet_count'], x['account_uptime']), axis=1)\n",
    "df1['favnum_per_day'] = df1.apply(lambda x: calculate_activity_per_uptime(x['fav_number'], x['account_uptime']), axis=1)"
   ]
  },
  {
   "cell_type": "code",
   "execution_count": 72,
   "metadata": {},
   "outputs": [],
   "source": [
    "corr_matrix = df1[['gender:confidence', 'profile_yn:confidence', 'fav_number', 'retweet_count',\n",
    "                   'tweet_count', 'account_uptime', 'tweets_per_day', 'retweets_per_day',\n",
    "                   'has_description', 'has_coord', 'has_location', 'has_timezone', 'favnum_per_day']].corr()"
   ]
  },
  {
   "cell_type": "code",
   "execution_count": 73,
   "metadata": {},
   "outputs": [
    {
     "data": {
      "text/plain": [
       "gender:confidence        1.000000\n",
       "profile_yn:confidence    0.308720\n",
       "account_uptime           0.141707\n",
       "has_description          0.111983\n",
       "has_location             0.096848\n",
       "has_timezone             0.072486\n",
       "has_coord                0.027507\n",
       "retweet_count           -0.004716\n",
       "tweet_count             -0.012566\n",
       "retweets_per_day        -0.015426\n",
       "fav_number              -0.029313\n",
       "favnum_per_day          -0.055421\n",
       "tweets_per_day          -0.067363\n",
       "Name: gender:confidence, dtype: float64"
      ]
     },
     "execution_count": 73,
     "metadata": {},
     "output_type": "execute_result"
    }
   ],
   "source": [
    "corr_matrix['gender:confidence'].sort_values(ascending=False)"
   ]
  },
  {
   "cell_type": "markdown",
   "metadata": {},
   "source": [
    "- Check columns if they have value or not (`description`, `tweet_coord`, `tweet_location`, `user_timezone`)"
   ]
  },
  {
   "cell_type": "code",
   "execution_count": 65,
   "metadata": {},
   "outputs": [],
   "source": [
    "df1['has_description'] = df1['description'].apply(lambda x: 0 if x == '' else 1)\n",
    "df1['has_coord'] = df1['tweet_coord'].apply(lambda x: 0 if x == '' else 1)\n",
    "df1['has_location'] = df1['tweet_location'].apply(lambda x: 0 if x == '' else 1)\n",
    "df1['has_timezone'] = df1['user_timezone'].apply(lambda x: 0 if x == '' else 1)"
   ]
  },
  {
   "cell_type": "markdown",
   "metadata": {},
   "source": [
    "- Consider removing the three columns with no direct insights"
   ]
  },
  {
   "cell_type": "code",
   "execution_count": 67,
   "metadata": {},
   "outputs": [],
   "source": [
    "df1 = df1.drop(['tweet_coord', 'tweet_location', 'user_timezone'], axis=1)"
   ]
  },
  {
   "cell_type": "code",
   "execution_count": 78,
   "metadata": {},
   "outputs": [],
   "source": [
    "df1['profile_yn'] = df1['profile_yn'].apply(lambda x: 1 if x == 'yes' else 0)"
   ]
  },
  {
   "cell_type": "code",
   "execution_count": 80,
   "metadata": {},
   "outputs": [
    {
     "data": {
      "text/plain": [
       "gender\n",
       "female     6685\n",
       "male       6173\n",
       "brand      5928\n",
       "unknown    1214\n",
       "Name: count, dtype: int64"
      ]
     },
     "execution_count": 80,
     "metadata": {},
     "output_type": "execute_result"
    }
   ],
   "source": [
    "df1['gender'].value_counts()"
   ]
  },
  {
   "cell_type": "markdown",
   "metadata": {},
   "source": [
    "- One-hot encoding the `gender` column\n",
    "- Remove `gender` afterwards"
   ]
  },
  {
   "cell_type": "code",
   "execution_count": 82,
   "metadata": {},
   "outputs": [],
   "source": [
    "df1['gender_brand'] = df1['gender'].apply(lambda x: 1 if x == 'brand' else 0)\n",
    "df1['gender_unknown'] = df1['gender'].apply(lambda x: 1 if x == 'unknown' else 0)\n",
    "df1['gender_male'] = df1['gender'].apply(lambda x: 1 if x == 'male' else 0)\n",
    "df1['gender_female'] = df1['gender'].apply(lambda x: 1 if x == 'female' else 0)"
   ]
  },
  {
   "cell_type": "code",
   "execution_count": 83,
   "metadata": {},
   "outputs": [],
   "source": [
    "df1 = df1.drop(['gender'], axis=1)"
   ]
  },
  {
   "cell_type": "code",
   "execution_count": 87,
   "metadata": {},
   "outputs": [],
   "source": [
    "df1.to_csv('./data/twitter_normal_user_processed_data_v1.csv')"
   ]
  }
 ],
 "metadata": {
  "kernelspec": {
   "display_name": "base",
   "language": "python",
   "name": "python3"
  },
  "language_info": {
   "codemirror_mode": {
    "name": "ipython",
    "version": 3
   },
   "file_extension": ".py",
   "mimetype": "text/x-python",
   "name": "python",
   "nbconvert_exporter": "python",
   "pygments_lexer": "ipython3",
   "version": "3.10.9"
  },
  "orig_nbformat": 4
 },
 "nbformat": 4,
 "nbformat_minor": 2
}
